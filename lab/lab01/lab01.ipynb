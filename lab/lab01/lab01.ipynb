{
 "cells": [
  {
   "cell_type": "code",
   "execution_count": null,
   "id": "14153ac9",
   "metadata": {
    "deletable": false,
    "editable": false
   },
   "outputs": [],
   "source": [
    "# Initialize Otter\n",
    "import otter\n",
    "grader = otter.Notebook(\"lab01.ipynb\")"
   ]
  },
  {
   "cell_type": "markdown",
   "id": "ca03f602",
   "metadata": {},
   "source": [
    "<img src=\"data6.png\" style=\"width: 15%; float: right; padding: 1%; margin-right: 2%;\"/>\n",
    "\n",
    "# Lab 1 – Using Jupyter Notebooks\n",
    "\n",
    "## Data 6, Fall 2025\n",
    "\n",
    "Welcome to the first lab section of Data 6!\n",
    "\n",
    "First and foremost, labs are designed to complement homework assignments. While labs are submitted or graded, we encourage you to work through all questions carefully to familiarize yourself with key programming concepts that you will use later on in your homeworks. Remember, you learn data science by **_doing_** data science!\n",
    "\n",
    "The goals of this lab section:\n",
    "* Access all of the technology we'll be using in this class;\n",
    "* Familiarize yourself with the Jupyter Notebook environment;\n",
    "* Use arithmetic operators in Python; and\n",
    "* Work with Python names."
   ]
  },
  {
   "cell_type": "markdown",
   "id": "06755ab2",
   "metadata": {},
   "source": []
  },
  {
   "cell_type": "markdown",
   "id": "6cc809ef",
   "metadata": {},
   "source": [
    "<hr style=\"border: 5px solid #003262;\" />\n",
    "<hr style=\"border: 1px solid #fdb515;\" />\n",
    "\n",
    "# Part 1: Jupyter Notebook"
   ]
  },
  {
   "cell_type": "markdown",
   "id": "4f85dde0",
   "metadata": {},
   "source": [
    "# Cells\n",
    "\n",
    "**Not these!** &rarr;\n",
    "\n",
    "<div align=center>\n",
    "    \n",
    "<img src='cell_graphic.jpeg' width=200>\n",
    "   \n",
    "</div>\n",
    "\n",
    "<br>\n",
    "\n",
    "Jupyter Notebooks are made up of cells. There are two types of cells in a Jupyter Notebook: code cells and [Markdown](https://www.markdownguide.org/getting-started/) cells. \n",
    "- Code cells are where we write our Python code.\n",
    "- Markdown cells allow us to write text, like the text you're reading right now. In Homework 1, you'll get a chance to learn a bit of Markdown.\n",
    "\n",
    "## Code cells\n",
    "\n",
    "Running a code cell will execute all of the code it contains.  Any output produced by the code will appear below the cell. Notice the `In:` and `Out:` statements to the left of the cells, followed by a number. That number designates the order in which the cell was run. For example, the number `[3]` next to a cell would indicate that this cell is the third cell that has been run in the notebook so far, or that this is the third time you've run this cell if you've re-run the cell multiple times.\n",
    "\n",
    "To run the code in a code cell, first click on that cell to activate it.  It'll be highlighted with a little green or blue rectangle. Next, do one of the following:\n",
    "* **Keyboard shortcut**: Hold down the `Shift` key and press `Return` or `Enter`.\n",
    "* **Button click**: Click the \"Run\" button in the cell toolbar above.\n",
    "\n",
    "While the above two options give no difference in computer runtime performance, it's useful to internalize some common keyboard shortcuts early in your Jupyter experience (think of it like learning \"Ctrl-C\" or \"Command-C\" to copy instead of \"Right click -> Copy to Clipboard\"). While they're not required for this course, keyboard shortuts will greatly improve your quality of life when programming Python (just trust us on this).\n",
    "\n",
    "\n",
    "We can use code cells to do arithmetic in Python. Try running the code cells below:"
   ]
  },
  {
   "cell_type": "code",
   "execution_count": null,
   "id": "b568aa27",
   "metadata": {},
   "outputs": [],
   "source": [
    "3 + 4 ** 2"
   ]
  },
  {
   "cell_type": "markdown",
   "id": "2d9b4100",
   "metadata": {},
   "source": [
    "The order of evaluation is what you might expect: parentheses, then exponentiation, then multiplication and division, then addition and subtraction; from left to right. "
   ]
  },
  {
   "cell_type": "code",
   "execution_count": null,
   "id": "d3169f84",
   "metadata": {},
   "outputs": [],
   "source": [
    "2 *(3 + 10)"
   ]
  },
  {
   "cell_type": "markdown",
   "id": "206ee0c4",
   "metadata": {},
   "source": [
    "You can use parentheses to modify the typical order of evaluation. **How would the above output change, if you removed the parentheses?**"
   ]
  },
  {
   "cell_type": "code",
   "execution_count": null,
   "id": "02684ff9",
   "metadata": {},
   "outputs": [],
   "source": [
    "4 ** 2\n",
    "1 + 2 + 4 + 8 + 16 + 32 + 64"
   ]
  },
  {
   "cell_type": "markdown",
   "id": "fd820574",
   "metadata": {},
   "source": [
    "**Note that only the value from evaluating the last expression is displayed;** the output from `4 **2` isn't shown at all. This is expected behavior."
   ]
  },
  {
   "cell_type": "code",
   "execution_count": null,
   "id": "579fc5e3",
   "metadata": {},
   "outputs": [],
   "source": [
    "10000"
   ]
  },
  {
   "cell_type": "markdown",
   "id": "07c23136",
   "metadata": {},
   "source": [
    "Also notice that this cell contains a very simple expression that evaluates to `1000`."
   ]
  },
  {
   "cell_type": "code",
   "execution_count": null,
   "id": "18225aea",
   "metadata": {},
   "outputs": [],
   "source": [
    "10 + 20 + 30 - max(10, 20, 30) - min(10, 20, 30)"
   ]
  },
  {
   "cell_type": "markdown",
   "id": "2c8109df",
   "metadata": {},
   "source": [
    "The output you see from running these five code cells are the values `19`, `16`, `127`, `1000` and `20` displayed, respectively. \n",
    "\n",
    "Comments in code cells are denoted using a hashtag (`#`). Comments are used to explain what code does when necessary (or, occasionally in our case, to provide instructions)."
   ]
  },
  {
   "cell_type": "code",
   "execution_count": null,
   "id": "56ef61a4",
   "metadata": {},
   "outputs": [],
   "source": [
    "# This is a comment!\n",
    "19 - 18"
   ]
  },
  {
   "cell_type": "markdown",
   "id": "f1578fa2",
   "metadata": {},
   "source": [
    "If you try and use syntax Python doesn't know about, it will give you an error."
   ]
  },
  {
   "cell_type": "code",
   "execution_count": null,
   "id": "e4ab9c76",
   "metadata": {},
   "outputs": [],
   "source": [
    "3 + * 4"
   ]
  },
  {
   "cell_type": "code",
   "execution_count": null,
   "id": "82b9afc0",
   "metadata": {},
   "outputs": [],
   "source": [
    "# Why does this work while the above cell causes an error?\n",
    "3 * - 4"
   ]
  },
  {
   "cell_type": "markdown",
   "id": "56dc122d",
   "metadata": {},
   "source": [
    "<br/>\n",
    "\n",
    "---\n",
    "\n",
    "## Question 1: Markdown Cells\n",
    "\n",
    "\n",
    "To edit an existing Markdown cell, double click it and change whatever you want. To *render* (display) it, you can \"run\" it like you'd run a code cell.\n",
    "\n",
    "**Edit the following cell to contain your favorite color.**\n",
    "\n",
    "*Note:* This is how questions will be formatted in your homework assignments."
   ]
  },
  {
   "cell_type": "markdown",
   "id": "4a8e1f3b",
   "metadata": {},
   "source": [
    "My favorite color is maroon. *(Type your answer here, replacing the text)*"
   ]
  },
  {
   "cell_type": "markdown",
   "id": "5146dc6c",
   "metadata": {},
   "source": [
    "---\n",
    "\n",
    "## Question 2: Converting cells\n",
    "\n",
    "To convert a cell from code to Markdown (or vice versa), you should use the dropdown menu in the cell toolbar. For instance, to convert the following cell from Markdown to code, you should:\n",
    "1. Click the cell.\n",
    "2. Click \"Markdown\" in the cell toolbar, and change it to \"Code.\"\n",
    "\n",
    "Your cell toolbar should then look like this:\n",
    "\n",
    "<img src=\"code-celltoolbar.png\" width=\"50%\"/>\n",
    "\n",
    "**Change the following cell from a Markdown cell to a code cell**, and run it by pressing the \"Run\" button or using the keyboard shortcut `Shift + Enter`."
   ]
  },
  {
   "cell_type": "markdown",
   "id": "06818975",
   "metadata": {},
   "source": [
    "3 + 4 + 5  # Change this to a code cell"
   ]
  },
  {
   "cell_type": "markdown",
   "id": "511d45da",
   "metadata": {},
   "source": [
    "---\n",
    "\n",
    "## Adding and deleting cells\n",
    "\n",
    "To add cells, you can go to \"Insert\" in the toolbar at the top, then click \"Insert cell Above\" or \"Insert cell Below.\" To delete cells, you can go to \"Edit\" in the toolbar at the top and click \"Delete cells\". (Be very careful when deleting a cell.)\n",
    "\n",
    "For your convenience, we provide this screenshot that details how to switch between \"Edit mode\" and \"Command mode\", which is relevant if you want to learn keyboard shortcuts. Again, keyboard shortcuts are not required for this course, but learning some now will greatly improve your programming quality of life.\n",
    "\n",
    "<img src='edit-mode.png' width=400>\n",
    "\n",
    "Some useful keyboard shortcuts:\n",
    "\n",
    "| Action | Mode | Keyboard shortcut |\n",
    "| :--- | :--- | :---\n",
    "| Run cell + jump to next cell | Either (puts you in edit mode) | `SHIFT + ENTER` |\n",
    "| Save notebook | Either | `CTRL/CMD + S` |\n",
    "| Switch to command mode | Either (puts you in command mode) | `ESCAPE` |\n",
    "| Switch to edit mode | Command | `ENTER` | \n",
    "| Comment out the current line | Edit | `CTRL/CMD + /` |\n",
    "| Create new cell above/below | Command |  `A/B` |\n",
    "| Delete cell | Command | `DD` |\n",
    "| Convert cell to Markdown | Command | `M` |\n",
    "| Convert cell to code | Command | `Y` |\n",
    "| Show all shortcuts | Command |  `H` |\n",
    "\n",
    "\n",
    "## Question 3: Insert Cell\n",
    "\n",
    "**Add a Markdown cell below this one, and in it write your middle name, or write \"I don't have a middle name\".**"
   ]
  },
  {
   "cell_type": "code",
   "execution_count": null,
   "id": "fcb03041",
   "metadata": {},
   "outputs": [],
   "source": [
    "# The cell you create should be above this one!"
   ]
  },
  {
   "cell_type": "markdown",
   "id": "0e69cd40",
   "metadata": {},
   "source": [
    "## Question 4: Delete Cell\n",
    "\n",
    "Delete the cell below."
   ]
  },
  {
   "cell_type": "code",
   "execution_count": null,
   "id": "422bcdd5",
   "metadata": {},
   "outputs": [],
   "source": [
    "# This should be deleted!"
   ]
  },
  {
   "cell_type": "markdown",
   "id": "d9503879",
   "metadata": {},
   "source": [
    "\n",
    "<hr style=\"border: 5px solid #003262;\" />\n",
    "<hr style=\"border: 1px solid #fdb515;\" />\n",
    "\n",
    "# Part 2: Arithmetic Expressions and Operators"
   ]
  },
  {
   "cell_type": "markdown",
   "id": "cd0dc8ba",
   "metadata": {},
   "source": [
    "We have covered several arithmetic operators so far:"
   ]
  },
  {
   "cell_type": "code",
   "execution_count": null,
   "id": "0b37ff7c",
   "metadata": {},
   "outputs": [],
   "source": [
    "(7 - 5) * 2**10 - 3 * 8 + 6 - 8 "
   ]
  },
  {
   "cell_type": "markdown",
   "id": "19c93be6",
   "metadata": {},
   "source": [
    "Combining several `int`s without using \"regular\" division always results in another `int`. Below, we use the `type()` function to find the type of the evaluated expression from the previous cell."
   ]
  },
  {
   "cell_type": "code",
   "execution_count": null,
   "id": "fdb0359f",
   "metadata": {},
   "outputs": [],
   "source": [
    "type((7 - 5) * 2**10 - 3 * 8 + 6 - 8)"
   ]
  },
  {
   "cell_type": "markdown",
   "id": "31708b09",
   "metadata": {},
   "source": [
    "As soon as division (`/`) or other `float`s are involved, the result is a `float`:"
   ]
  },
  {
   "cell_type": "code",
   "execution_count": null,
   "id": "524a4f87",
   "metadata": {},
   "outputs": [],
   "source": [
    "15 / 3"
   ]
  },
  {
   "cell_type": "code",
   "execution_count": null,
   "id": "1c5d097f",
   "metadata": {},
   "outputs": [],
   "source": [
    "type(15 / 3)"
   ]
  },
  {
   "cell_type": "markdown",
   "id": "bc273b6e",
   "metadata": {},
   "source": [
    "We can get `int` results from division by using the **integer division** operator `//`. When the dividend (the number we're dividing) isn't evenly divisible by the divisor (the number we're dividing by), the *result is rounded down*."
   ]
  },
  {
   "cell_type": "code",
   "execution_count": null,
   "id": "dd657e50",
   "metadata": {},
   "outputs": [],
   "source": [
    "15 // 3"
   ]
  },
  {
   "cell_type": "code",
   "execution_count": null,
   "id": "e200cedd",
   "metadata": {},
   "outputs": [],
   "source": [
    "16 // 3"
   ]
  },
  {
   "cell_type": "code",
   "execution_count": null,
   "id": "59773e69",
   "metadata": {},
   "outputs": [],
   "source": [
    "type(15 // 3)"
   ]
  },
  {
   "cell_type": "markdown",
   "id": "cd7fbcd2",
   "metadata": {},
   "source": [
    "We can **cast** `int`s to `float`s and vice versa by applying the `int()` or `float()` functiosn to expressions."
   ]
  },
  {
   "cell_type": "code",
   "execution_count": null,
   "id": "13d3e148",
   "metadata": {},
   "outputs": [],
   "source": [
    "int(15 / 3)"
   ]
  },
  {
   "cell_type": "code",
   "execution_count": null,
   "id": "d8d901a8",
   "metadata": {},
   "outputs": [],
   "source": [
    "float(5)"
   ]
  },
  {
   "cell_type": "markdown",
   "id": "6aab334e",
   "metadata": {},
   "source": [
    "If our `float` is not a round integer, we lose information:"
   ]
  },
  {
   "cell_type": "code",
   "execution_count": null,
   "id": "6ddefcaf",
   "metadata": {},
   "outputs": [],
   "source": [
    "int(4.1)"
   ]
  },
  {
   "cell_type": "markdown",
   "id": "e5c40e49",
   "metadata": {},
   "source": [
    "---\n",
    "\n",
    "## Question 5\n",
    "\n",
    "In the cell below, **write an arithmetic expression that evaluates to your birth year *as an `int`* that uses at least four of these operators**:\n",
    "- `+`\n",
    "- `-`\n",
    "- `*`\n",
    "- `/`\n",
    "- `**`\n",
    "\n",
    "Use can also use the `int()` function."
   ]
  },
  {
   "cell_type": "code",
   "execution_count": null,
   "id": "53e15213",
   "metadata": {},
   "outputs": [],
   "source": [
    "# replace this with your expression"
   ]
  },
  {
   "cell_type": "markdown",
   "id": "d99c2cb4",
   "metadata": {},
   "source": [
    "**Note:** On homeworks, questions that ask you to write code will usually be followed with a cell that says something like `otter.grade('q5')` that you'll need to run in order for your work to be graded. We'll bring this up when Homework 1 goes out, but we wanted to give you a heads up now."
   ]
  },
  {
   "cell_type": "markdown",
   "id": "8dbd4e8d",
   "metadata": {},
   "source": [
    "---\n",
    "\n",
    "## Question 6:  Pythagorean Theorem\n",
    "\n",
    "So far we have discussed one critical facet of data science: **data validation**, where, given existing data, we verify another study's claims or findings. Another important data science skill is **feature engineering**, where we augment our data with an additional variable. While we leave the formal definition of \"feature\" to future lectures, let's use the following example to explore the benefit of using existing data to generate more information.\n",
    "\n",
    "<br/>\n",
    "\n",
    "Suppose the campus IT department is exploring different computer monitors for their computer lab. Computer monitor sizes are defined as diagonal measurements from corner to corner, but the IT department is concerned about the overall *monitor width* (since the monitor has to fit on their desk). They are considering monitors from the following dataset:\n",
    "\n",
    "| Aspect Ratio | Monitor Size (inches) | Monitor Height (inches) |\n",
    "| :--- | :---- | :---- |\n",
    "| 16:9 | 20 | 9.8 | \n",
    "| 16:9 | 22 | 10.8 |\n",
    "| 16:9 | 24 | 11.8 |\n",
    "\n",
    "The data above include aspect ratio (all widescreen, 16:9), monitor size in inches, and monitor height in inches–but no monitor width. As a data scientist, you decide to generate another feature for each listed monitor in the data by computing the associated monitor width.\n",
    "\n",
    "In the cell below, **write an arithmetic expression that, when evaluated, computes the monitor width for the 22\" monitor size** listed in the table above.\n",
    "\n",
    "**Hints**:\n",
    "* Recall the Pythagorean theorem for a right triangle: $a^2 + b^2 = c^2$, where $a$, $b$, and $c$ are the lengths of the first leg, second leg, and hypotenuse, respectively.\n",
    "* We didn't explicitly cover how to take the square root of a number, but recall that in mathematics, the square root function $\\sqrt{x}$ is equivalent to exponentiating with the exponent $\\frac{1}{2}$ – that is, $\\sqrt{x} = x^{\\frac{1}{2}}$. That means we can use the exponentiation operator `**` to compute square roots, too. For example, `121 ** 0.5` evaluates to `11.0`.\n",
    "* Like in math, may need to use parentheses `(` and `)` for order of operations.\n",
    "* There are two valid ways of computing the monitor width. Each method uses values from two out of the three available columns.\n",
    "* Feel free to validate your result with a screen size calculator, e.g., [http://screen-size.info/](http://screen-size.info/)."
   ]
  },
  {
   "cell_type": "code",
   "execution_count": null,
   "id": "3f7691bf",
   "metadata": {},
   "outputs": [],
   "source": [
    "# replace this with your expression"
   ]
  },
  {
   "cell_type": "markdown",
   "id": "d3f58b42",
   "metadata": {},
   "source": [
    "<hr>\n",
    "\n",
    "# Part 3: Conventions\n",
    "## Names\n",
    "In natural language, we have terminology that lets us quickly reference very complicated concepts.  We don't say, \"That's a large mammal with brown fur and sharp teeth!\"  Instead, we just say, \"Bear!\"\n",
    "\n",
    "In Python, we do this with *assignment statements*. An assignment statement has a name on the left side of an `=` sign and an expression to be evaluated on the right."
   ]
  },
  {
   "cell_type": "code",
   "execution_count": null,
   "id": "26001252",
   "metadata": {},
   "outputs": [],
   "source": [
    "ten = 3 * 2 + 4"
   ]
  },
  {
   "cell_type": "markdown",
   "id": "2d7ff3c0",
   "metadata": {},
   "source": [
    "When you run that cell, Python first computes the value of the expression on the right-hand side, `3 * 2 + 4`, which is the number 10.  Then it assigns that value to the name `ten`.  At that point, the code in the cell is done running.\n",
    "\n",
    "After you run that cell, the value 10 is bound to the name `ten`:"
   ]
  },
  {
   "cell_type": "code",
   "execution_count": null,
   "id": "5d56e9c0",
   "metadata": {},
   "outputs": [],
   "source": [
    "ten"
   ]
  },
  {
   "cell_type": "markdown",
   "id": "9fa3d0a4",
   "metadata": {},
   "source": [
    "The statement `ten = 3 * 2 + 4` is not asserting that `ten` is already equal to `3 * 2 + 4`, as we might expect by analogy with math notation.  Rather, that line of code changes what `ten` means; it now refers to the value 10, whereas before it meant nothing at all.\n",
    "\n",
    "If the designers of Python had been ruthlessly pedantic, they might have made us write\n",
    "\n",
    "    define the name ten to hereafter have the value of 3 * 2 + 4 \n",
    "\n",
    "instead.  You will probably appreciate the brevity of \"`=`\"!  But keep in mind that this is the real meaning."
   ]
  },
  {
   "cell_type": "markdown",
   "id": "d3639e45",
   "metadata": {},
   "source": [
    "## Question 7\n",
    "Assign the name `weeks_in_a_decade` to the number of weeks between midnight January 1, 2010 and midnight January 1, 2020. \n"
   ]
  },
  {
   "cell_type": "code",
   "execution_count": null,
   "id": "5a44f310",
   "metadata": {},
   "outputs": [],
   "source": [
    "# Change the next line \n",
    "# so that it computes the number of weeks in a decade \n",
    "# and assigns that number the name, weeks_in_a_decade.\n",
    "\n",
    "weeks_in_a_decade = ...\n",
    "\n",
    "# We've put this line in this cell \n",
    "# so that it will print the value you've given to weeks_in_a_decade when you run it.  \n",
    "# You don't need to change this.\n",
    "weeks_in_a_decade"
   ]
  },
  {
   "cell_type": "markdown",
   "id": "b64281d2",
   "metadata": {},
   "source": [
    "---\n",
    "\n",
    "## Comments\n",
    "You may have noticed these lines in the cell in which you answered Question 3.2:\n",
    "\n",
    "    # Change the next line \n",
    "    # so that it computes the number of weeks in a decade \n",
    "    # and assigns that number the name, weeks_in_a_decade.\n",
    "    \n",
    "This is called a *comment*. It doesn't make anything happen in Python; Python ignores anything on a line after a `#`.  Instead, it's there to communicate something about the code to you, the human reader. Comments are extremely useful. \n",
    "\n",
    "<img src=\"http://imgs.xkcd.com/comics/future_self.png\">\n",
    "\n",
    "Source: [XKCD](http://imgs.xkcd.com/comics/future_self.png)"
   ]
  },
  {
   "cell_type": "markdown",
   "id": "356f7f32",
   "metadata": {},
   "source": [
    "## Question 8\n",
    "We’ve been given a line of code, but the variable names aren’t very helpful, which makes it tricky to understand. Your job is to figure out what the code is doing and then rewrite it in a clearer way."
   ]
  },
  {
   "cell_type": "code",
   "execution_count": null,
   "id": "609d9e2c",
   "metadata": {},
   "outputs": [],
   "source": [
    "var1 = 212\n",
    "var2 = (var1 - 32) * 5 / 9 + 273\n",
    "var2"
   ]
  },
  {
   "cell_type": "markdown",
   "id": "b2c74c23",
   "metadata": {},
   "source": [
    "First, think about what kind of real-world calculation this code is making. \n",
    "\n",
    "_Hint_: think temperature units: Farenheit, Celsius, and Kelvin.\n",
    "\n",
    "Then, rewrite the code by breaking it up into step-by-step populations, using descriptive variable names so that it's clearer what we're trying to do."
   ]
  },
  {
   "cell_type": "code",
   "execution_count": null,
   "id": "c70d19f9",
   "metadata": {},
   "outputs": [],
   "source": [
    "# Write your code in this cell. \n",
    "..."
   ]
  },
  {
   "cell_type": "markdown",
   "id": "f98c6391",
   "metadata": {},
   "source": [
    "<hr>\n",
    "\n",
    "# Part 4: Policies\n",
    "## Question 9: Mandatory Syllabus Quiz\n",
    "Last but not least, please fill out [this syllabus quiz](https://forms.gle/t18hfu6hA9To8VKb6). Please use your Berkeley email to access the form!\n",
    "\n",
    "This is different from the [Welcome Survey](https://forms.gle/BzzmSYgSw6i1V2RB9) that you should fill out by Friday 8/29 5pm."
   ]
  },
  {
   "cell_type": "markdown",
   "id": "1864fd27",
   "metadata": {},
   "source": [
    "<hr>\n",
    "\n",
    "## Done! 😇"
   ]
  },
  {
   "cell_type": "markdown",
   "id": "8ebc34fb",
   "metadata": {
    "deletable": false,
    "editable": false
   },
   "source": [
    "---\n",
    "\n",
    "To double-check your work, the cell below will rerun all of the autograder tests."
   ]
  },
  {
   "cell_type": "code",
   "execution_count": null,
   "id": "9d83682b",
   "metadata": {
    "deletable": false,
    "editable": false
   },
   "outputs": [],
   "source": [
    "grader.check_all()"
   ]
  },
  {
   "cell_type": "markdown",
   "id": "7fa1e950",
   "metadata": {
    "deletable": false,
    "editable": false
   },
   "source": [
    "## Submission\n",
    "\n",
    "Make sure you have run all cells in your notebook in order before running the cell below, so that all images/graphs appear in the output. The cell below will generate a zip file for you to submit. **Please save before exporting!**"
   ]
  },
  {
   "cell_type": "code",
   "execution_count": null,
   "id": "f11f8096",
   "metadata": {
    "deletable": false,
    "editable": false
   },
   "outputs": [],
   "source": [
    "# Save your notebook first, then run this cell to export your submission.\n",
    "grader.export(pdf=False)"
   ]
  },
  {
   "cell_type": "markdown",
   "id": "5408fce2",
   "metadata": {},
   "source": [
    " "
   ]
  }
 ],
 "metadata": {
  "kernelspec": {
   "display_name": "Python 3",
   "language": "python",
   "name": "python3"
  },
  "language_info": {
   "codemirror_mode": {
    "name": "ipython",
    "version": 3
   },
   "file_extension": ".py",
   "mimetype": "text/x-python",
   "name": "python",
   "nbconvert_exporter": "python",
   "pygments_lexer": "ipython3",
   "version": "3.11.7"
  },
  "otter": {
   "OK_FORMAT": true,
   "tests": {}
  }
 },
 "nbformat": 4,
 "nbformat_minor": 5
}
